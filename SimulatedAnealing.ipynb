{
 "cells": [
  {
   "cell_type": "code",
   "execution_count": 284,
   "metadata": {},
   "outputs": [],
   "source": [
    "import numpy as np\n",
    "import math\n",
    "import sys\n",
    "import time\n",
    "import numpy as np\n",
    "import matplotlib.pyplot as plt\n",
    "import time\n",
    "import random\n",
    "\n",
    "\n",
    "class SAnnealing(object):\n",
    "\n",
    "    def __init__(self, domain, step = 1, final_temperature=0.1, temperature = 100, alpha=0.95, equilibrium=10, time = 0, limited_decimals = 1, capacity = 5, data = []):\n",
    "        self.domain = domain\n",
    "        self.step = step\n",
    "        self.temperature = temperature\n",
    "        self.final_temperature = final_temperature\n",
    "        self.alpha = alpha\n",
    "        self.equilibrium = equilibrium\n",
    "        self.time = time\n",
    "        self.limited_decimals = limited_decimals\n",
    "        self.data = data\n",
    "\n",
    "    def cost_function(self, f, x):\n",
    "        return f(self.data, x)\n",
    "\n",
    "    def getTotalDemand(self, data):\n",
    "        totalDemand = 0\n",
    "        for element in self.data:\n",
    "            totalDemand += element[2]\n",
    "        return totalDemand\n",
    "\n",
    "    def CVRP_function(routes):\n",
    "        distance = 0\n",
    "        for i in np.arange(len(routes)-1):\n",
    "            distance += np.sqrt((routes[i][0] - routes[i+1][0])**2 + (routes[i][1] - routes[i+1][1])**2)\n",
    "        return distance\n",
    "\n",
    "    def getAllDistances(self, routes):\n",
    "        allDistances = 0\n",
    "        for route in routes:\n",
    "            coordenates = []\n",
    "            coordenates.append(self.data[0][1])\n",
    "            for node in route:\n",
    "                coordenates.append(self.data[node][1])\n",
    "            coordenates.append(self.data[0][1])\n",
    "            allDistances += CVRP_function(coordenates)\n",
    "        return allDistances\n",
    "\n",
    "    def getDemand(self, route):\n",
    "        demand = 0\n",
    "        for node in route:\n",
    "            demand += self.data[node][2]\n",
    "        return demand\n",
    "\n",
    "    def create_first_solution(self):\n",
    "        totalDemand = getTotalDemand(self.data)\n",
    "        capacity = 30\n",
    "\n",
    "        totalCars = round(totalDemand / capacity)\n",
    "\n",
    "        while(1):\n",
    "            routes = []\n",
    "\n",
    "            for i in np.arange(totalCars):\n",
    "                routes.append([])\n",
    "            respaldRoutes = routes.copy()\n",
    "            demands = []\n",
    "            for i in np.arange(len(self.data) - 1):\n",
    "                index = random.randint(0,(totalCars -1))\n",
    "                routes[index].append(i+1)\n",
    "\n",
    "            for route in routes:\n",
    "                demands.append(getDemand(route, self.data))\n",
    "            \n",
    "            isUnderDemand = True\n",
    "            for demand in demands:\n",
    "                if(demand > capacity):\n",
    "                    isUnderDemand = False\n",
    "\n",
    "            if(isUnderDemand):\n",
    "                break\n",
    "\n",
    "        return routes\n",
    "\n",
    "\n",
    "    def create_neighbor_solution(self, actual_solution):    \n",
    "        while(1):\n",
    "\n",
    "            neighbor = actual_solution.copy()\n",
    "            idx = random.randint(0,(len(self.data)-2))\n",
    "\n",
    "            lenList = 0\n",
    "            i = 0\n",
    "            chargedNode = 0\n",
    "            chargedRoute = 0\n",
    "            for route in neighbor:\n",
    "                for node in route:\n",
    "                    if(i == idx):\n",
    "                        chargedNode = node\n",
    "                    i += 1\n",
    "                if(chargedNode):\n",
    "                    route.remove(chargedNode)\n",
    "                    break\n",
    "                chargedRoute += 1\n",
    "\n",
    "            idxRoute = random.randint(0,(len(neighbor)-1))\n",
    "            neighbor[idxRoute].insert(0, chargedNode)\n",
    "\n",
    "            demands = []\n",
    "            for route in neighbor:\n",
    "                demands.append(getDemand(route, self.data))\n",
    "\n",
    "            isUnderDemand = True\n",
    "            for demand in demands:\n",
    "                if(demand > capacity):\n",
    "                    isUnderDemand = False\n",
    "            \n",
    "            if(isUnderDemand):\n",
    "                return neighbor\n",
    "\n",
    "\n",
    "    def aceptance_probability(self, deltaE, temperature):\n",
    "        try:\n",
    "            r = math.exp(-deltaE/temperature)\n",
    "        except OverflowError:\n",
    "            r = float(\"inf\") \n",
    "        return r\n",
    "\n",
    "\n",
    "    def update_temperature(self, temperature):\n",
    "        return self.alpha * temperature\n",
    "\n",
    "\n",
    "    def fit(self, objetive):\n",
    "        self.cost_ = []\n",
    "        actual_solution = self.create_first_solution()\n",
    "        best_solution = actual_solution.copy()\n",
    "        epoch = 0\n",
    "        number_tested_solution = 0\n",
    "        aceptanced = 100\n",
    "        inicio = time.time()\n",
    "        while (self.temperature > self.final_temperature):\n",
    "            number_worst_solution_acepted = 0\n",
    "            i = 0\n",
    "            while (i < self.equilibrium):\n",
    "                random_solution = self.create_neighbor_solution(actual_solution)\n",
    "                number_tested_solution += 1\n",
    "                delta_E = self.cost_function(objetive, random_solution) - self.cost_function(objetive, actual_solution)\n",
    "                if delta_E > 0:\n",
    "                    actual_solution = random_solution.copy()\n",
    "                else:\n",
    "                    deg_deltaE = self.aceptance_probability(-delta_E, self.temperature)\n",
    "                    if(np.random.uniform(0, 1) < deg_deltaE):\n",
    "                        actual_solution = random_solution.copy()\n",
    "                        number_worst_solution_acepted += 1\n",
    "                x = self.cost_function(objetive, actual_solution)\n",
    "                #self.cost_.append((x,y))\n",
    "                epoch_strlen = len(str(epoch))\n",
    "                fin = time.time()\n",
    "                total = fin - inicio\n",
    "                sys.stderr.write('\\r%0*d Epoch | Equilibrium %d | Temperature %.2f '\n",
    "                                '| Actual solution %f | Aceptance : %.2f | Time: %f' \n",
    "                        %\n",
    "                        (epoch_strlen, epoch+1, i+1, self.temperature, \n",
    "                        x,aceptanced, total))\n",
    "                time.sleep(self.time)\n",
    "                sys.stderr.flush()\n",
    "                i += 1\n",
    "                epoch += 1\n",
    "            aceptanced = number_worst_solution_acepted * 100 /number_tested_solution\n",
    "            self.temperature = self.update_temperature(self.temperature)\n",
    "\n",
    "        print(f'This are the best routes: {actual_solution}')"
   ]
  },
  {
   "cell_type": "code",
   "execution_count": 285,
   "metadata": {},
   "outputs": [
    {
     "name": "stderr",
     "output_type": "stream",
     "text": [
      "1670 Epoch | Equilibrium 10 | Temperature 0.10 | Actual solution 280.199933 | Aceptance : 0.60 | Time: 1.27550672"
     ]
    },
    {
     "name": "stdout",
     "output_type": "stream",
     "text": [
      "This are the best routes: [[4, 1], [2, 5, 3]]\n"
     ]
    }
   ],
   "source": [
    "data = ((0,(38,46),0), (1,(59,46),16), (2,(96,42),18), (3,(47,61),1), (4,(26,15),13), (5,(66,6),8))\n",
    "\n",
    "sa = SAnnealing(domain=((0, 32),), step=1, final_temperature=0.1, temperature=500, alpha=0.95, equilibrium=10, time=0, limited_decimals=20, capacity = 5, data = data)\n",
    "sa.fit(getAllDistances)"
   ]
  },
  {
   "cell_type": "code",
   "execution_count": 286,
   "metadata": {},
   "outputs": [
    {
     "name": "stdout",
     "output_type": "stream",
     "text": [
      "0 38 46 0\n",
      "1 59 46 16\n",
      "2 96 42 18\n",
      "3 47 61 1\n",
      "4 26 15 13\n",
      "5 66 6 8\n"
     ]
    }
   ],
   "source": [
    "\n",
    "for i in np.arange(len(data)):\n",
    "    print(data[i][0], data[i][1][0], data[i][1][1], data[i][2])\n"
   ]
  },
  {
   "cell_type": "code",
   "execution_count": 287,
   "metadata": {},
   "outputs": [],
   "source": [
    "objects = [[38, 46], [59,46], [66,6], [38, 46]]\n",
    "\n",
    "def CVRP_function(routes):\n",
    "    distance = 0\n",
    "    for i in np.arange(len(routes)-1):\n",
    "        distance += np.sqrt((routes[i][0] - routes[i+1][0])**2 + (routes[i][1] - routes[i+1][1])**2)\n",
    "    return distance\n",
    "\n",
    "def getAllDistances(data, routes):\n",
    "    allDistances = 0\n",
    "    for route in routes:\n",
    "        coordenates = []\n",
    "        coordenates.append(data[0][1])\n",
    "        for node in route:\n",
    "            coordenates.append(data[node][1])\n",
    "        coordenates.append(data[0][1])\n",
    "        allDistances += CVRP_function(coordenates)\n",
    "    return allDistances\n",
    "\n",
    "def getDemand(route, data):\n",
    "    demand = 0\n",
    "    for node in route:\n",
    "        demand += data[node][2]\n",
    "    return demand"
   ]
  },
  {
   "cell_type": "code",
   "execution_count": 288,
   "metadata": {},
   "outputs": [],
   "source": [
    "def getTotalDemand(data):\n",
    "    totalDemand = 0\n",
    "    for element in data:\n",
    "        totalDemand += element[2]\n",
    "    return totalDemand\n",
    "\n",
    "\n",
    "def create_first_solution(data):\n",
    "    totalDemand = getTotalDemand(data)\n",
    "    capacity = 30\n",
    "\n",
    "    totalCars = round(totalDemand / capacity)\n",
    "\n",
    "    while(1):\n",
    "        routes = []\n",
    "\n",
    "        for i in np.arange(totalCars):\n",
    "            routes.append([])\n",
    "        respaldRoutes = routes.copy()\n",
    "        \n",
    "        demands = []\n",
    "        for i in np.arange(len(data) - 1):\n",
    "            index = random.randint(0,(totalCars -1))\n",
    "            routes[index].append(i+1)\n",
    "\n",
    "        for route in routes:\n",
    "            demands.append(getDemand(route, data))\n",
    "        \n",
    "        isUnderDemand = True\n",
    "        for demand in demands:\n",
    "            if(demand > capacity):\n",
    "                isUnderDemand = False\n",
    "\n",
    "        if(isUnderDemand):\n",
    "            break\n",
    "\n",
    "    return routes"
   ]
  },
  {
   "cell_type": "code",
   "execution_count": 289,
   "metadata": {},
   "outputs": [
    {
     "name": "stdout",
     "output_type": "stream",
     "text": [
      "[[2, 5], [1, 3, 4]]\n"
     ]
    }
   ],
   "source": [
    "routes = create_first_solution(data)\n",
    "print(routes)"
   ]
  },
  {
   "cell_type": "code",
   "execution_count": 290,
   "metadata": {},
   "outputs": [
    {
     "name": "stdout",
     "output_type": "stream",
     "text": [
      "1\n"
     ]
    }
   ],
   "source": [
    "print(len(routes[0]) - 1)"
   ]
  },
  {
   "cell_type": "code",
   "execution_count": 291,
   "metadata": {},
   "outputs": [],
   "source": [
    "def create_neighbor_solution(actual_solution, data):    \n",
    "    while(1):\n",
    "\n",
    "        neighbor = actual_solution.copy()\n",
    "        idx = random.randint(0,(len(data)-2))\n",
    "\n",
    "        lenList = 0\n",
    "        i = 0\n",
    "        chargedNode = 0\n",
    "        chargedRoute = 0\n",
    "        for route in neighbor:\n",
    "            for node in route:\n",
    "                if(i == idx):\n",
    "                    chargedNode = node\n",
    "                i += 1\n",
    "            if(chargedNode):\n",
    "                route.remove(chargedNode)\n",
    "                break\n",
    "            chargedRoute += 1\n",
    "\n",
    "        idxRoute = random.randint(0,(len(neighbor)-1))\n",
    "        neighbor[idxRoute].insert(0, chargedNode)\n",
    "\n",
    "        demands = []\n",
    "        for route in neighbor:\n",
    "            demands.append(getDemand(route, data))\n",
    "\n",
    "        isUnderDemand = True\n",
    "        for demand in demands:\n",
    "            if(demand > capacity):\n",
    "                isUnderDemand = False\n",
    "        \n",
    "        if(isUnderDemand):\n",
    "            return neighbor\n"
   ]
  },
  {
   "cell_type": "code",
   "execution_count": 292,
   "metadata": {},
   "outputs": [
    {
     "data": {
      "text/plain": [
       "[[4, 1, 3], [2, 5]]"
      ]
     },
     "execution_count": 292,
     "metadata": {},
     "output_type": "execute_result"
    }
   ],
   "source": [
    "create_neighbor_solution([[1, 3, 4], [2, 5]], data)"
   ]
  },
  {
   "cell_type": "code",
   "execution_count": 293,
   "metadata": {},
   "outputs": [
    {
     "data": {
      "image/png": "[encoded data removed]",
      "text/plain": [
       "<Figure size 640x480 with 1 Axes>"
      ]
     },
     "metadata": {},
     "output_type": "display_data"
    }
   ],
   "source": [
    "plt.plot(range(len(sa.cost_)), [x[1] for x in sa.cost_ ])\n",
    "plt.show()"
   ]
  },
  {
   "cell_type": "code",
   "execution_count": 294,
   "metadata": {},
   "outputs": [
    {
     "data": {
      "image/png": "[encoded data removed]",
      "text/plain": [
       "<Figure size 640x480 with 1 Axes>"
      ]
     },
     "metadata": {},
     "output_type": "display_data"
    }
   ],
   "source": [
    "plt.plot(range(len(sa.cost_)), [x[0] for x in sa.cost_ ])\n",
    "plt.show()"
   ]
  },
  {
   "cell_type": "code",
   "execution_count": 295,
   "metadata": {},
   "outputs": [
    {
     "ename": "NameError",
     "evalue": "name 'cubic_function' is not defined",
     "output_type": "error",
     "traceback": [
      "\u001b[0;31m---------------------------------------------------------------------------\u001b[0m",
      "\u001b[0;31mNameError\u001b[0m                                 Traceback (most recent call last)",
      "\u001b[1;32m/Users/samuelguerrero/GitHub/1002-A/simulated-anealing/SimulatedAnealing.ipynb Cell 12\u001b[0m in \u001b[0;36m<cell line: 2>\u001b[0;34m()\u001b[0m\n\u001b[1;32m      <a href='vscode-notebook-cell:/Users/samuelguerrero/GitHub/1002-A/simulated-anealing/SimulatedAnealing.ipynb#X12sZmlsZQ%3D%3D?line=0'>1</a>\u001b[0m sa \u001b[39m=\u001b[39m SAnnealing(domain\u001b[39m=\u001b[39m((\u001b[39m0\u001b[39m, \u001b[39m32\u001b[39m),), step\u001b[39m=\u001b[39m\u001b[39m1\u001b[39m, final_temperature\u001b[39m=\u001b[39m\u001b[39m0.1\u001b[39m, temperature\u001b[39m=\u001b[39m\u001b[39m200\u001b[39m, alpha\u001b[39m=\u001b[39m\u001b[39m0.95\u001b[39m, equilibrium\u001b[39m=\u001b[39m\u001b[39m10\u001b[39m, time\u001b[39m=\u001b[39m\u001b[39m0\u001b[39m, limited_decimals\u001b[39m=\u001b[39m\u001b[39m5\u001b[39m)\n\u001b[0;32m----> <a href='vscode-notebook-cell:/Users/samuelguerrero/GitHub/1002-A/simulated-anealing/SimulatedAnealing.ipynb#X12sZmlsZQ%3D%3D?line=1'>2</a>\u001b[0m sa\u001b[39m.\u001b[39mfit(cubic_function)\n",
      "\u001b[0;31mNameError\u001b[0m: name 'cubic_function' is not defined"
     ]
    }
   ],
   "source": [
    "sa = SAnnealing(domain=((0, 32),), step=1, final_temperature=0.1, temperature=200, alpha=0.95, equilibrium=10, time=0, limited_decimals=5)\n",
    "sa.fit(cubic_function)"
   ]
  },
  {
   "cell_type": "code",
   "execution_count": null,
   "metadata": {},
   "outputs": [
    {
     "data": {
      "image/png": "[encoded data removed]",
      "text/plain": [
       "<Figure size 640x480 with 1 Axes>"
      ]
     },
     "metadata": {},
     "output_type": "display_data"
    }
   ],
   "source": [
    "plt.plot(range(len(sa.cost_)), [x[1] for x in sa.cost_ ])\n",
    "plt.show()"
   ]
  },
  {
   "cell_type": "code",
   "execution_count": null,
   "metadata": {},
   "outputs": [
    {
     "data": {
      "image/png": "[encoded data removed]",
      "text/plain": [
       "<Figure size 640x480 with 1 Axes>"
      ]
     },
     "metadata": {},
     "output_type": "display_data"
    }
   ],
   "source": [
    "plt.plot(range(len(sa.cost_)), [x[0] for x in sa.cost_ ])\n",
    "plt.show()"
   ]
  }
 ],
 "metadata": {
  "kernelspec": {
   "display_name": "base",
   "language": "python",
   "name": "python3"
  },
  "language_info": {
   "codemirror_mode": {
    "name": "ipython",
    "version": 3
   },
   "file_extension": ".py",
   "mimetype": "text/x-python",
   "name": "python",
   "nbconvert_exporter": "python",
   "pygments_lexer": "ipython3",
   "version": "3.9.13"
  },
  "orig_nbformat": 4
 },
 "nbformat": 4,
 "nbformat_minor": 2
}

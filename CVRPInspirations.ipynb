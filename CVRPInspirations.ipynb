{
 "cells": [
  {
   "cell_type": "code",
   "execution_count": 44,
   "metadata": {},
   "outputs": [
    {
     "name": "stderr",
     "output_type": "stream",
     "text": [
      "/var/folders/yv/xlbmlrh90c7bcl6zn1k7n12w0000gn/T/ipykernel_2922/419151642.py:20: UserWarning: color is redundantly defined by the 'color' keyword argument and the fmt string \"ro\" (-> color='r'). The keyword argument will take precedence.\n",
      "  plt.plot(x[0], y[0], 'ro', c=\"b\")\n"
     ]
    },
    {
     "data": {
      "image/png": "[encoded data removed]",
      "text/plain": [
       "<Figure size 750x550 with 1 Axes>"
      ]
     },
     "metadata": {},
     "output_type": "display_data"
    }
   ],
   "source": [
    "import matplotlib.pyplot as plt\n",
    "import numpy as np\n",
    "\n",
    "plt.rcParams[\"figure.figsize\"] = [7.50, 5.50]\n",
    "plt.rcParams[\"figure.autolayout\"] = True\n",
    "\n",
    "N = 5\n",
    "\n",
    "x = [38, 59, 96, 47, 26, 66]\n",
    "y = [46, 46, 42, 62, 25,  6]\n",
    "demand = [0, 16, 18, 1, 13, 8]\n",
    "\n",
    "plt.plot(x, y, 'ro')\n",
    "\n",
    "i = 0\n",
    "for xy in zip(x, y):\n",
    "   plt.annotate((str(i), demand[i]), xy=xy, )\n",
    "   i += 1\n",
    "\n",
    "plt.plot(x[0], y[0], 'ro', c=\"b\")\n",
    "\n",
    "plt.grid()\n",
    "plt.show()\n",
    "\n",
    "\n",
    "\n",
    "Total: 51\n",
    "Capacidad Máxima: 30\n",
    "51/30 = 2\n",
    "\n",
    "1,2,3,4,5\n",
    "\n",
    "\n",
    "\n"
   ]
  },
  {
   "cell_type": "code",
   "execution_count": 51,
   "metadata": {},
   "outputs": [],
   "source": [
    "#x = [38, 59, 96, 47, 26, 66]\n",
    "#y = [46, 46, 42, 62, 25,  6]\n",
    "#demand = [0, 16, 18, 1, 13, 8]\n",
    "\n",
    "objects = [[38, 46], [59,46], [66,6], [38, 46]]\n",
    "\n",
    "def CVRP_function(routes):\n",
    "    distance = 0\n",
    "    for i in np.arange(len(routes)-1):\n",
    "        distance += np.sqrt((routes[i][0] - routes[i+1][0])**2 + (routes[i][1] - routes[i+1][1])**2)\n",
    "    return distance\n",
    "       "
   ]
  },
  {
   "cell_type": "code",
   "execution_count": 52,
   "metadata": {},
   "outputs": [
    {
     "name": "stdout",
     "output_type": "stream",
     "text": [
      "110.43410347142871\n"
     ]
    }
   ],
   "source": [
    "print(CVRP_function(objects))"
   ]
  },
  {
   "cell_type": "code",
   "execution_count": null,
   "metadata": {},
   "outputs": [],
   "source": [
    "[0,-1,-1,4,-1,-1,0]"
   ]
  },
  {
   "cell_type": "code",
   "execution_count": null,
   "metadata": {},
   "outputs": [],
   "source": [
    "import numpy as np\n",
    "import math\n",
    "import sys\n",
    "import time\n",
    "import numpy as np\n",
    "import matplotlib.pyplot as plt\n",
    "import time\n",
    "\n",
    "\n",
    "class SAnnealing(object):\n",
    "\n",
    "    def __init__(self, domain, step = 1, final_temperature=0.1, temperature = 100, alpha=0.95, equilibrium=10, time = 0, limited_decimals = 1):\n",
    "        self.domain = domain\n",
    "        self.step = step\n",
    "        self.temperature = temperature\n",
    "        self.final_temperature = final_temperature\n",
    "        self.alpha = alpha\n",
    "        self.equilibrium = equilibrium\n",
    "        self.time = time\n",
    "        self.limited_decimals = limited_decimals\n",
    "\n",
    "    def cost_function(self, f, x):\n",
    "        return f(x)\n",
    "\n",
    "    def create_first_solution(self):\n",
    "         return \n",
    "\n",
    "        1,2,3,4,5\n",
    "         [[3,1,5],[2,4]]\n",
    "         [[],[3,1,5,2,4]]\n",
    "         [[1,5],[3,2,4]]\n",
    "\n",
    "\n",
    "    def count_decimals(num):\n",
    "        \"\"\"\n",
    "        Devuelve el número de decimales que tiene un número flotante.\n",
    "        \"\"\"\n",
    "        num_str = str(num)\n",
    "\n",
    "        decimal_index = num_str.find('.')\n",
    "\n",
    "        if decimal_index == -1:\n",
    "            return 0\n",
    "        else:\n",
    "            return len(num_str) - decimal_index - 1\n",
    "\n",
    "    def create_neighbor_solution(self, actual_solution):\n",
    "        neighbor = actual_solution.copy()\n",
    "        \n",
    "        0,1,2,3,4\n",
    "        [[1,5],[2,3,4]] \n",
    "        idx = np.random.randint(len(actual_solution))\n",
    "        \n",
    "\n",
    "\n",
    "    def aceptance_probability(self, deltaE, temperature):\n",
    "        try:\n",
    "            r = math.exp(-deltaE/temperature)\n",
    "        except OverflowError:\n",
    "            r = float(\"inf\") \n",
    "        return r\n",
    "\n",
    "\n",
    "    def update_temperature(self, temperature):\n",
    "        return self.alpha * temperature\n",
    "\n",
    "\n",
    "    def fit(self, objetive):\n",
    "        self.cost_ = []\n",
    "        actual_solution = self.create_first_solution()\n",
    "        best_solution = actual_solution.copy()\n",
    "        epoch = 0\n",
    "        number_tested_solution = 0\n",
    "        aceptanced = 100\n",
    "        inicio = time.time()\n",
    "        while (self.temperature > self.final_temperature):\n",
    "            number_worst_solution_acepted = 0\n",
    "            i = 0\n",
    "            while (i < self.equilibrium):\n",
    "                random_solution = self.create_neighbor_solution(actual_solution)\n",
    "                number_tested_solution += 1\n",
    "                delta_E = self.cost_function(objetive, random_solution)[1] - self.cost_function(objetive, actual_solution)[1]\n",
    "                if delta_E > 0:\n",
    "                    actual_solution = random_solution.copy()\n",
    "                else:\n",
    "                    deg_deltaE = self.aceptance_probability(-delta_E, self.temperature)\n",
    "                    if(np.random.uniform(0, 1) < deg_deltaE):\n",
    "                        actual_solution = random_solution.copy()\n",
    "                        number_worst_solution_acepted += 1\n",
    "                x, y = self.cost_function(objetive, actual_solution)\n",
    "                self.cost_.append((x,y))\n",
    "                epoch_strlen = len(str(epoch))\n",
    "                fin = time.time()\n",
    "                total = fin - inicio\n",
    "                sys.stderr.write('\\r%0*d Epoch | Equilibrium %d | Temperature %.2f '\n",
    "                                '| Actual solution %f | Cost function: %.2f | Aceptance : %.2f | Time: %f' \n",
    "                        %\n",
    "                        (epoch_strlen, epoch+1, i+1, self.temperature, \n",
    "                        x, y, aceptanced, total))\n",
    "                time.sleep(self.time)\n",
    "                sys.stderr.flush()\n",
    "                i += 1\n",
    "                epoch += 1\n",
    "            aceptanced = number_worst_solution_acepted * 100 /number_tested_solution\n",
    "            self.temperature = self.update_temperature(self.temperature)"
   ]
  }
 ],
 "metadata": {
  "kernelspec": {
   "display_name": "base",
   "language": "python",
   "name": "python3"
  },
  "language_info": {
   "codemirror_mode": {
    "name": "ipython",
    "version": 3
   },
   "file_extension": ".py",
   "mimetype": "text/x-python",
   "name": "python",
   "nbconvert_exporter": "python",
   "pygments_lexer": "ipython3",
   "version": "3.9.13"
  },
  "orig_nbformat": 4
 },
 "nbformat": 4,
 "nbformat_minor": 2
}
